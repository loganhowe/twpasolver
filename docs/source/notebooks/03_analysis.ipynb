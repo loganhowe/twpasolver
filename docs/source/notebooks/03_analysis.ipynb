{
 "cells": [
  {
   "cell_type": "markdown",
   "metadata": {},
   "source": [
    "# 3WM gain and TWPAnalysis\n",
    "\n",
    "This tutorial demonstrates how to utilize the `twpasolver.TWPAnalysis` class to simulate the gain response of a TWPA by solving the Coupled Mode Equations (CMEs).\n",
    "\n",
    "### Overivew\n",
    "`twpasolver.TWPAnalysis` automates the procedures required to compute the gain characteristics of a TWPA model.\n",
    "\n",
    "Implemented features:\n",
    "\n",
    "* Calculation of phase-matching profile, gain and bandwidth.\n",
    "* Automatic caching of data.\n",
    "* Sweeps over lists of input parameters for the analysis functions.\n",
    "* Simple plots.\n",
    "\n",
    "Current limitations:\n",
    "\n",
    "* Specialized for solving 3-wave mixing systems only.\n",
    "* Simple sytems of CMEs, reflections and additional harmonics not considered.\n",
    "* Analysis routines are not isolated from the class.\n",
    "* 1-D sweeps only.\n",
    "\n",
    "### Example - Setup\n",
    "\n",
    "Let's start by importing the required libraries and initializing the `TWPAnalysis` instance. This object requires:\n",
    "* A `TWPA` instance or the name of a json file containing the definition of the model\n",
    "* A frequency span which determines the full region that will be considered in the analysis, which can be provided either as a list of values or a tuple that will be passed to `numpy.arange`. Some precautions in choosing the frequency span must be taken to correctly unwrap the phase response of the device. Namely, the frequency array should be dense enough and should start from frequencies much lower than the position of the stopband."
   ]
  },
  {
   "cell_type": "code",
   "execution_count": null,
   "metadata": {},
   "outputs": [],
   "source": [
    "import logging\n",
    "\n",
    "import matplotlib.pyplot as plt\n",
    "import numpy as np\n",
    "\n",
    "from twpasolver import TWPAnalysis\n",
    "from twpasolver.logging import log\n",
    "from twpasolver.mathutils import dBm_to_I\n",
    "\n",
    "log.setLevel(logging.WARNING)\n",
    "\n",
    "plt.rcParams[\"font.size\"] = 13.5\n",
    "plt.rcParams[\"axes.axisbelow\"] = True\n",
    "\n",
    "twpa_file = \"model_cpw_dartwars_13nm_Lk8_5.json\"\n",
    "a = TWPAnalysis(twpa=twpa_file, f_arange=(0.5, 10, 0.5e-3))\n",
    "a.update_base_data()\n",
    "ax = a.plot_response(pump_freq=a.data[\"optimal_pump_freq\"])\n",
    "a.twpa.model_dump()"
   ]
  },
  {
   "cell_type": "markdown",
   "metadata": {},
   "source": [
    "### Phase matching"
   ]
  },
  {
   "cell_type": "code",
   "execution_count": null,
   "metadata": {},
   "outputs": [],
   "source": [
    "_ = a.phase_matching()\n",
    "a.plot_phase_matching(thin=3)"
   ]
  },
  {
   "cell_type": "markdown",
   "metadata": {},
   "source": [
    "### Gain and bandwidth"
   ]
  },
  {
   "cell_type": "code",
   "execution_count": null,
   "metadata": {},
   "outputs": [],
   "source": [
    "s_arange = np.arange(1, 7, 0.05)\n",
    "_ = a.gain(signal_freqs=s_arange, Is0=1e-6)\n",
    "a.plot_gain()\n",
    "_ = a.bandwidth()\n",
    "for edg in a.data[\"bandwidth\"][\"bandwidth_edges\"]:\n",
    "    plt.axvline(edg, color=\"black\", ls=\"--\")\n",
    "plt.axhline(a.data[\"bandwidth\"][\"reduced_gain\"], c=\"black\", ls=\"--\")\n",
    "plt.axhline(a.data[\"bandwidth\"][\"mean_gain\"], c=\"black\", ls=\"--\");"
   ]
  },
  {
   "cell_type": "markdown",
   "metadata": {},
   "source": [
    "### Parameter sweeps\n",
    "\n",
    "#### Gain as a function of pump frequency"
   ]
  },
  {
   "cell_type": "code",
   "execution_count": null,
   "metadata": {},
   "outputs": [],
   "source": [
    "optimal = a.data[\"optimal_pump_freq\"]\n",
    "pumps = np.arange(optimal - 0.2, optimal + 0.5, 0.02)\n",
    "pumpsweep_res = a.parameter_sweep(\n",
    "    \"gain\", \"pump\", pumps, signal_freqs=s_arange, save_name=\"pump_profile\"\n",
    ")"
   ]
  },
  {
   "cell_type": "code",
   "execution_count": null,
   "metadata": {},
   "outputs": [],
   "source": [
    "plt.pcolor(pumpsweep_res[\"signal_freqs\"][0], pumps, pumpsweep_res[\"gain_db\"])\n",
    "plt.xlabel(\"Signal frequency [GHz]\")\n",
    "plt.ylabel(\"Pump frequency [GHz]\")\n",
    "c = plt.colorbar()\n",
    "c.set_label(\"Gain [dB]\")"
   ]
  },
  {
   "cell_type": "markdown",
   "metadata": {},
   "source": [
    "#### Compression point"
   ]
  },
  {
   "cell_type": "code",
   "execution_count": null,
   "metadata": {},
   "outputs": [],
   "source": [
    "signals_db = np.arange(-80, -40, 1)\n",
    "signals = dBm_to_I(signals_db)\n",
    "edges = a.data[\"bandwidth\"][\"bandwidth_edges\"]\n",
    "s_arange = a.data[\"bandwidth\"][\"bw_freqs\"]  # (edges[0], edges[-1], 0.1)\n",
    "compression_res = a.parameter_sweep(\n",
    "    \"gain\", \"Is0\", signals, signal_freqs=s_arange, thin=1000, save_name=\"compression\"\n",
    ")"
   ]
  },
  {
   "cell_type": "code",
   "execution_count": null,
   "metadata": {},
   "outputs": [],
   "source": [
    "mean_gains = np.mean(compression_res[\"gain_db\"], axis=1)\n",
    "reduced_1db = mean_gains[0] - 1\n",
    "cp_1db = np.interp(reduced_1db, mean_gains[::-1], signals_db[::-1])\n",
    "plt.scatter(signals_db, mean_gains)\n",
    "plt.xlabel(\"Signal power [dB]\")\n",
    "plt.ylabel(\"Gain [dB]\")\n",
    "plt.axhline(reduced_1db, c=\"black\", ls=\"--\")\n",
    "plt.axvline(cp_1db, c=\"black\", ls=\"--\")"
   ]
  }
 ],
 "metadata": {
  "kernelspec": {
   "display_name": "twpaenv",
   "language": "python",
   "name": "twpaenv"
  },
  "language_info": {
   "codemirror_mode": {
    "name": "ipython",
    "version": 3
   },
   "file_extension": ".py",
   "mimetype": "text/x-python",
   "name": "python",
   "nbconvert_exporter": "python",
   "pygments_lexer": "ipython3",
   "version": "3.10.12"
  }
 },
 "nbformat": 4,
 "nbformat_minor": 2
}
