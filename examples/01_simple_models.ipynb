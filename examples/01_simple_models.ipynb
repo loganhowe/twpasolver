{
 "cells": [
  {
   "cell_type": "code",
   "execution_count": null,
   "metadata": {},
   "outputs": [],
   "source": [
    "import matplotlib.pyplot as plt\n",
    "import numpy as np\n",
    "from numba import njit\n",
    "\n",
    "from twpasolver.frequency import Frequencies\n",
    "from twpasolver.models import TWPA, LCLfBaseCell, StubBaseCell\n",
    "\n",
    "freqs = np.arange(1e9, 12e9, 2e6)\n",
    "N_u = 60\n",
    "N_l = 6\n",
    "N_sc = 1000\n",
    "N = N_sc * (N_u + N_l)\n",
    "\n",
    "# Cell capacitances, expressed in F\n",
    "C_u = 18.81e-15\n",
    "C_l = 7.0e-15\n",
    "C_eff = (N_u * C_u + N_l * C_l) / (N_u + N_l)\n",
    "\n",
    "# Cell inductances, expressed in H\n",
    "L_u = 45.2e-12\n",
    "L_l = 45.2e-12\n",
    "L_eff = (N_u * L_u + N_l * L_l) / (N_u + N_l)\n",
    "\n",
    "# Finger inductances, expressed in H\n",
    "L_f_u = 1.02e-9\n",
    "L_f_l = 0.335e-9\n",
    "L_f_eff = (N_u * L_f_u + N_l * L_f_l) / (N_u + N_l)\n",
    "\n",
    "# Characteristic inductance\n",
    "Z_0 = np.sqrt(L_u / C_u)\n",
    "Z_l = np.sqrt(L_l / C_l)\n",
    "Z_eff = np.sqrt(L_eff / C_eff)\n",
    "\n",
    "l1_u = 102e-6\n",
    "l1_l = 33.5e-6\n",
    "l2 = 2e-6"
   ]
  },
  {
   "cell_type": "code",
   "execution_count": null,
   "metadata": {},
   "outputs": [],
   "source": [
    "u = LCLfBaseCell(C=C_u, L=L_u, Lf=L_f_u, Z0=Z_0, N=N_u / 2)\n",
    "l = LCLfBaseCell(C=C_l, L=L_l, Lf=L_f_l, Z0=Z_l, N=N_l)\n",
    "eff = LCLfBaseCell(C=C_eff, L=L_eff, Lf=L_f_eff, Z0=Z_eff, N=N_u + N_l)\n",
    "twpa = TWPA(cells=[u, l, u], N=N_sc, Z0=Z_0)\n",
    "twpa_not_loaded = TWPA(cells=[eff], N=N_sc, Z0=Z_eff)\n",
    "\n",
    "# Stub model, TODO use better parameters\n",
    "us = StubBaseCell(l1=l1_u, l2=l2, C=C_u, L=L_u, Lf=L_f_u, Z0=Z_0, N=N_u / 2, n_stub=2)\n",
    "ls = StubBaseCell(l1=l1_l, l2=l2, C=C_l, L=L_l, Lf=L_f_l, Z0=Z_0, N=N_l, n_stub=2)\n",
    "twpa_stub = TWPA(cells=[us, ls, us], N=N_sc, Z0=Z_0)"
   ]
  },
  {
   "cell_type": "markdown",
   "metadata": {},
   "source": [
    "### Simple dumping and loading of configuration files"
   ]
  },
  {
   "cell_type": "code",
   "execution_count": null,
   "metadata": {},
   "outputs": [],
   "source": [
    "twpa.dump_to_file(\"model_1\")\n",
    "twpa2 = TWPA.from_file(\"model_1\")\n",
    "print(twpa2 == twpa)"
   ]
  },
  {
   "cell_type": "markdown",
   "metadata": {},
   "source": [
    "### S matrix parameters"
   ]
  },
  {
   "cell_type": "code",
   "execution_count": null,
   "metadata": {},
   "outputs": [],
   "source": [
    "cell = twpa.get_network(freqs)\n",
    "cell_u = twpa_not_loaded.get_network(freqs)\n",
    "cell_stub = twpa_stub.get_network(freqs)"
   ]
  },
  {
   "cell_type": "code",
   "execution_count": null,
   "metadata": {},
   "outputs": [],
   "source": [
    "cell.s21.plot_s_db(label=\"malnou\")\n",
    "cell_stub.s21.plot_s_db(label=\"stub\")\n",
    "plt.grid()\n",
    "plt.ylabel(\"$|S_{21}|$ (dB)\")"
   ]
  },
  {
   "cell_type": "markdown",
   "metadata": {},
   "source": [
    "### Non-linear dispersion relation"
   ]
  },
  {
   "cell_type": "code",
   "execution_count": null,
   "metadata": {},
   "outputs": [],
   "source": [
    "cell = twpa.get_network(freqs)\n",
    "linear_disp = 2 * np.pi * freqs * np.sqrt(C_eff * L_eff)\n",
    "plt.plot(\n",
    "    freqs * 1e-9,\n",
    "    -cell.s21.s_rad_unwrap.flatten() / N - linear_disp,\n",
    "    label=\"with loaded cells\",\n",
    ")\n",
    "plt.plot(\n",
    "    freqs * 1e-9,\n",
    "    -cell_u.s21.s_rad_unwrap.flatten() / N - linear_disp,\n",
    "    label=\"no loaded cells\",\n",
    ")\n",
    "plt.xlabel(\"Frequencies [GHz]\")\n",
    "plt.ylabel(\"$k^*$ [rad]\")\n",
    "plt.legend()\n",
    "plt.grid()"
   ]
  },
  {
   "cell_type": "code",
   "execution_count": null,
   "metadata": {},
   "outputs": [],
   "source": []
  }
 ],
 "metadata": {
  "kernelspec": {
   "display_name": "twpaenv",
   "language": "python",
   "name": "twpaenv"
  },
  "language_info": {
   "codemirror_mode": {
    "name": "ipython",
    "version": 3
   },
   "file_extension": ".py",
   "mimetype": "text/x-python",
   "name": "python",
   "nbconvert_exporter": "python",
   "pygments_lexer": "ipython3",
   "version": "3.10.12"
  }
 },
 "nbformat": 4,
 "nbformat_minor": 2
}
