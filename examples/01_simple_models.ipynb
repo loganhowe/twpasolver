{
 "cells": [
  {
   "cell_type": "code",
   "execution_count": null,
   "metadata": {},
   "outputs": [],
   "source": [
    "from twpasolver import MalnouBaseCell, StubBaseCell, TWPA\n",
    "import numpy as np\n",
    "import matplotlib.pyplot as plt\n",
    "from numba import njit\n",
    "\n",
    "freqs = np.arange(1e9, 10e9, 1e6)\n",
    "\n",
    "N_u= 60\n",
    "N_l=6\n",
    "N_sc=1000\n",
    "N=N_sc*(N_u+N_l)\n",
    "\n",
    "# Cell capacitances, expressed in F\n",
    "C_u = 18.81e-15\n",
    "C_l = 7.e-15\n",
    "C_eff = (N_u * C_u + N_l * C_l)/(N_u+N_l)\n",
    "\n",
    "# Cell inductances, expressed in H\n",
    "L_u = 45.2e-12\n",
    "L_l = 45.2e-12\n",
    "L_eff = (N_u * L_u + N_l * L_l)/(N_u+N_l)\n",
    "\n",
    "# Finger inductances, expressed in H\n",
    "L_f_u = 1.02e-9\n",
    "L_f_l = 0.335e-9\n",
    "L_f_eff = (N_u * L_f_u + N_l * L_f_l)/(N_u+N_l)\n",
    "\n",
    "# Characteristic inductance\n",
    "Z_0 = np.sqrt(L_u / C_u)\n",
    "Z_l = np.sqrt(L_l / C_l)\n",
    "Z_eff = np.sqrt(L_eff / C_eff)\n",
    "\n",
    "l1_u=102e-6\n",
    "l1_l=33.5e-6\n",
    "l2=2e-6"
   ]
  },
  {
   "cell_type": "code",
   "execution_count": null,
   "metadata": {},
   "outputs": [],
   "source": [
    "u = MalnouBaseCell(C=C_u, L=L_u, Lf=L_f_u, Z0=Z_0)\n",
    "l = MalnouBaseCell(C=C_l, L=L_l, Lf=L_f_l, Z0=Z_l)\n",
    "eff = MalnouBaseCell(C=C_eff, L=L_eff, Lf=L_f_eff, Z0=Z_eff)\n",
    "twpa=TWPA(unloaded=u, loaded=l, N_l=N_l, N_u=N_u, N_sc=N_sc, Z0=Z_0)\n",
    "twpa_not_loaded=TWPA(unloaded=eff, loaded=eff, N_l=N_l, N_u=N_u, N_sc=N_sc, Z0=Z_eff)\n",
    "\n",
    "\n",
    "# Stub model, TODO use better parameters\n",
    "us = StubBaseCell(l1=l1_u, l2=l2, C=C_u, L=L_u, Lf=L_f_u, Z0=Z_0)\n",
    "ls = StubBaseCell(l1=l1_l, l2=l2, C=C_l, L=L_l, Lf=L_f_l, Z0=Z_0)\n",
    "twpa_stub=TWPA(unloaded=us, loaded=ls, N_l=N_l, N_u=N_u, N_sc=N_sc, Z0=Z_0)"
   ]
  },
  {
   "cell_type": "markdown",
   "metadata": {},
   "source": [
    "### Simple dumping and loading of configuration files"
   ]
  },
  {
   "cell_type": "code",
   "execution_count": null,
   "metadata": {},
   "outputs": [],
   "source": [
    "twpa.dump_to_file(\"model_1\", writer=\"hdf5\")\n",
    "twpa2 = TWPA.from_file(\"model_1\")\n",
    "print(twpa2 == twpa)"
   ]
  },
  {
   "cell_type": "markdown",
   "metadata": {},
   "source": [
    "### S matrix parameters"
   ]
  },
  {
   "cell_type": "code",
   "execution_count": null,
   "metadata": {},
   "outputs": [],
   "source": [
    "cell = twpa.get_network(freqs)\n",
    "cell_u = twpa_not_loaded.get_network(freqs)\n",
    "cell_stub = twpa_stub.get_network(freqs)"
   ]
  },
  {
   "cell_type": "code",
   "execution_count": null,
   "metadata": {},
   "outputs": [],
   "source": [
    "cell.s21.plot_s_db(label=\"malnou\")\n",
    "cell_stub.s21.plot_s_db(label=\"stub\")\n",
    "plt.grid()\n",
    "plt.ylabel(\"$|S_{21}|$ (dB)\")"
   ]
  },
  {
   "cell_type": "markdown",
   "metadata": {},
   "source": [
    "### Non-linear dispersion relation"
   ]
  },
  {
   "cell_type": "code",
   "execution_count": null,
   "metadata": {},
   "outputs": [],
   "source": [
    "cell = twpa.get_network(freqs)\n",
    "linear_disp = 2*np.pi*freqs*np.sqrt(C_eff*L_eff)\n",
    "plt.plot(freqs*1e-9, -cell.s21.s_rad_unwrap.flatten()/N - linear_disp, label=\"with loaded cells\")\n",
    "plt.plot(freqs*1e-9, -cell_u.s21.s_rad_unwrap.flatten()/N - linear_disp, label=\"no loaded cells\")\n",
    "plt.xlabel(\"Frequencies [GHz]\")\n",
    "plt.ylabel(\"$k^*$ [rad]\")\n",
    "plt.legend()\n",
    "plt.grid()"
   ]
  },
  {
   "cell_type": "markdown",
   "metadata": {},
   "source": [
    "### Phase-matching"
   ]
  },
  {
   "cell_type": "code",
   "execution_count": null,
   "metadata": {},
   "outputs": [],
   "source": [
    "@njit\n",
    "def phase_matching(freqs,k_array, pump_freqs,k_array_p, I0=250e-6, Istar=6.3e-3, I=1e-3):\n",
    "    delta_k =  np.empty(shape=(len(freqs), len(pump_freqs)))\n",
    "    for (i, j), _ in np.ndenumerate(delta_k):\n",
    "        k_signal = k_array[i]\n",
    "        k_pump = k_array_p[j]\n",
    "        k_idler = k_array[np.searchsorted(freqs, pump_freqs[j]-freqs[i])]\n",
    "        delta_k[i, j] = max(k_pump-k_signal-k_idler + I0**2 / (8*(I**2+Istar**2))*(k_pump-2*k_idler-2*k_signal),5e-4)\n",
    "    return delta_k\n",
    "\n",
    "all_freqs = np.arange(0, 10e9, 1e6)\n",
    "cell = twpa.get_network(all_freqs)\n",
    "all_k = cell.s21.s_rad_unwrap.flatten()/N\n",
    "\n",
    "n_p_min =8500\n",
    "n_p_max =-1\n",
    "\n",
    "freqs_pump = all_freqs[n_p_min:n_p_max]\n",
    "k_array_p = all_k[n_p_min:n_p_max]\n",
    "\n",
    "n_s_max = 8500\n",
    "freqs_s = all_freqs[:n_s_max]\n",
    "k_array=all_k[:n_s_max]\n",
    "linear_disp = 2*np.pi*freqs*np.sqrt(C_eff*L_eff)\n",
    "\n",
    "deltas = phase_matching(freqs_s, k_array, freqs_pump, k_array_p)\n",
    "linear_disp_pu = 2*np.pi*freqs_pump*np.sqrt(C_eff*L_eff)\n"
   ]
  },
  {
   "cell_type": "code",
   "execution_count": null,
   "metadata": {},
   "outputs": [],
   "source": [
    "thin = 10\n",
    "plt.pcolor(freqs_pump[::thin]*1e-9, freqs_s[::thin]*1e-9, deltas[::thin,::thin], norm=\"log\")\n",
    "c = plt.colorbar()\n",
    "c.ax.set_xlabel(r\"$\\Delta_\\beta$\", fontsize=16)\n",
    "plt.xlabel(\"pump frequency [GHz]\")\n",
    "plt.ylabel(\"signal frequency [GHz]\")\n",
    "#plt.savefig(\"phase_matching.png\", dpi=150)"
   ]
  }
 ],
 "metadata": {
  "kernelspec": {
   "display_name": "twpaenv",
   "language": "python",
   "name": "twpaenv"
  },
  "language_info": {
   "codemirror_mode": {
    "name": "ipython",
    "version": 3
   },
   "file_extension": ".py",
   "mimetype": "text/x-python",
   "name": "python",
   "nbconvert_exporter": "python",
   "pygments_lexer": "ipython3",
   "version": "3.10.12"
  }
 },
 "nbformat": 4,
 "nbformat_minor": 2
}
