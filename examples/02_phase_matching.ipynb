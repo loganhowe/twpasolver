{
 "cells": [
  {
   "cell_type": "code",
   "execution_count": null,
   "metadata": {},
   "outputs": [],
   "source": [
    "import matplotlib.pyplot as plt\n",
    "import numpy as np\n",
    "from numba import njit\n",
    "\n",
    "from twpasolver.models import TWPA"
   ]
  },
  {
   "cell_type": "code",
   "execution_count": null,
   "metadata": {},
   "outputs": [],
   "source": [
    "@njit\n",
    "def phase_matching(\n",
    "    freqs, k_array, pump_freqs, k_array_p, I0=250e-6, Istar=6.3e-3, I=1e-3\n",
    "):\n",
    "    delta_k = np.empty(shape=(len(freqs), len(pump_freqs)))\n",
    "    for (i, j), _ in np.ndenumerate(delta_k):\n",
    "        k_signal = k_array[i]\n",
    "        k_pump = k_array_p[j]\n",
    "        k_idler = k_array[np.searchsorted(freqs, pump_freqs[j] - freqs[i])]\n",
    "        delta_k[i, j] = abs(\n",
    "            k_pump\n",
    "            - k_signal\n",
    "            - k_idler\n",
    "            + I0**2 / (8 * (I**2 + Istar**2)) * (k_pump - 2 * k_idler - 2 * k_signal)\n",
    "        )\n",
    "    return delta_k\n",
    "\n",
    "\n",
    "twpa = TWPA.from_file(\"model_cpw_dartwars_13nm_Lk8_5.json\")\n",
    "N_tot = twpa.N * sum(cell.N for cell in twpa.cells)\n",
    "\n",
    "\n",
    "all_freqs = np.arange(0, 11, 1e-3)\n",
    "cell = twpa.get_network(all_freqs)\n",
    "all_k = cell.s21.s_rad_unwrap.flatten() / N_tot\n",
    "\n",
    "n_p_min = 7000\n",
    "n_p_max = -1\n",
    "\n",
    "freqs_pump = all_freqs[n_p_min:n_p_max]\n",
    "k_array_p = all_k[n_p_min:n_p_max]\n",
    "\n",
    "n_s_max = 7000\n",
    "freqs_s = all_freqs[:n_s_max]\n",
    "k_array = all_k[:n_s_max]\n",
    "\n",
    "deltas = phase_matching(\n",
    "    freqs_s, k_array, freqs_pump, k_array_p, I0=twpa.Ip0, Istar=twpa.Istar\n",
    ")"
   ]
  },
  {
   "cell_type": "code",
   "execution_count": null,
   "metadata": {},
   "outputs": [],
   "source": [
    "thin = 10\n",
    "plt.pcolor(\n",
    "    freqs_s[::thin],\n",
    "    freqs_pump[::thin],\n",
    "    np.log(deltas[::thin, ::thin].transpose()),\n",
    ")\n",
    "c = plt.colorbar()\n",
    "c.ax.set_xlabel(r\"log|$\\Delta_\\beta$|\")\n",
    "plt.ylabel(\"pump frequency [GHz]\")\n",
    "plt.xlabel(\"signal frequency [GHz]\")\n",
    "# plt.savefig(\"phase_matching.png\", dpi=150)"
   ]
  }
 ],
 "metadata": {
  "kernelspec": {
   "display_name": "twpaenv",
   "language": "python",
   "name": "twpaenv"
  },
  "language_info": {
   "codemirror_mode": {
    "name": "ipython",
    "version": 3
   },
   "file_extension": ".py",
   "mimetype": "text/x-python",
   "name": "python",
   "nbconvert_exporter": "python",
   "pygments_lexer": "ipython3",
   "version": "3.10.12"
  }
 },
 "nbformat": 4,
 "nbformat_minor": 2
}
