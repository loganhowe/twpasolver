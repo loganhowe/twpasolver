{
 "cells": [
  {
   "cell_type": "code",
   "execution_count": null,
   "metadata": {},
   "outputs": [],
   "source": [
    "import matplotlib.pyplot as plt\n",
    "import numpy as np\n",
    "\n",
    "from twpasolver import TWPAnalysis\n",
    "from twpasolver.mathutils import dBm_to_I\n",
    "from twpasolver.models import TWPA\n",
    "\n",
    "plt.rcParams[\"font.size\"] = 13.5\n",
    "plt.rcParams[\"axes.axisbelow\"] = True"
   ]
  },
  {
   "cell_type": "code",
   "execution_count": null,
   "metadata": {},
   "outputs": [],
   "source": [
    "twpa_file = \"model_cpw_dartwars_13nm_Lk8_5.json\"\n",
    "twpa = TWPA.from_file(twpa_file)\n",
    "a = TWPAnalysis(twpa=twpa, freqs_arange=(0.3, 10, 0.5e-3), data_file=\"data\")\n",
    "ax = a.plot_response()"
   ]
  },
  {
   "cell_type": "code",
   "execution_count": null,
   "metadata": {},
   "outputs": [],
   "source": [
    "_ = a.phase_matching()\n",
    "a.plot_phase_matching(thin=3)"
   ]
  },
  {
   "cell_type": "code",
   "execution_count": null,
   "metadata": {},
   "outputs": [],
   "source": [
    "s_arange = np.arange(1, 7, 0.05)\n",
    "_ = a.gain(signal_freqs=s_arange, Is0=1e-6)\n",
    "a.plot_gain()"
   ]
  },
  {
   "cell_type": "code",
   "execution_count": null,
   "metadata": {},
   "outputs": [],
   "source": [
    "_ = a.bandwidth()\n",
    "plt.plot(a.data[\"gain\"][\"signal_freqs\"], a.data[\"gain\"][\"gain_db\"])\n",
    "plt.axhline(a.data[\"bandwidth\"][\"reduced_gain\"], c=\"black\", ls=\"--\")\n",
    "for edg in a.data[\"bandwidth\"][\"bandwidth_edges\"]:\n",
    "    plt.axvline(edg, color=\"black\", ls=\"--\")\n",
    "plt.axhline(a.data[\"bandwidth\"][\"mean_gain\"], c=\"black\", ls=\"--\");"
   ]
  },
  {
   "cell_type": "code",
   "execution_count": null,
   "metadata": {},
   "outputs": [],
   "source": [
    "optimal = a.data[\"optimal_pump_freq\"]\n",
    "pumps = np.arange(optimal - 0.2, optimal + 0.5, 0.02)\n",
    "pumpsweep_res = a.parameter_sweep(\n",
    "    \"gain\", \"pump\", pumps, signal_freqs=s_arange, save_name=\"pump_profile\"\n",
    ")"
   ]
  },
  {
   "cell_type": "code",
   "execution_count": null,
   "metadata": {},
   "outputs": [],
   "source": [
    "plt.pcolor(pumpsweep_res[\"signal_freqs\"][0], pumps, pumpsweep_res[\"gain_db\"])\n",
    "plt.xlabel(\"Signal frequency [GHz]\")\n",
    "plt.ylabel(\"Pump frequency [GHz]\")\n",
    "c = plt.colorbar()\n",
    "c.set_label(\"Gain [dB]\")"
   ]
  },
  {
   "cell_type": "code",
   "execution_count": null,
   "metadata": {},
   "outputs": [],
   "source": [
    "signals_db = np.arange(-80, -40, 1)\n",
    "signals = dBm_to_I(signals_db)\n",
    "edges = a.data[\"bandwidth\"][\"bandwidth_edges\"]\n",
    "s_arange = a.data[\"bandwidth\"][\"bw_freqs\"]  # (edges[0], edges[-1], 0.1)\n",
    "compression_res = a.parameter_sweep(\n",
    "    \"gain\", \"Is0\", signals, signal_freqs=s_arange, thin=1000, save_name=\"compression\"\n",
    ")"
   ]
  },
  {
   "cell_type": "code",
   "execution_count": null,
   "metadata": {},
   "outputs": [],
   "source": [
    "mean_gains = np.mean(compression_res[\"gain_db\"], axis=1)\n",
    "reduced_1db = mean_gains[0] - 1\n",
    "cp_1db = np.interp(reduced_1db, mean_gains[::-1], signals_db[::-1])\n",
    "plt.scatter(signals_db, mean_gains)\n",
    "plt.xlabel(\"Signal power [dB]\")\n",
    "plt.ylabel(\"Gain [dB]\")\n",
    "plt.axhline(reduced_1db, c=\"black\", ls=\"--\")\n",
    "plt.axvline(cp_1db, c=\"black\", ls=\"--\")"
   ]
  },
  {
   "cell_type": "code",
   "execution_count": null,
   "metadata": {},
   "outputs": [],
   "source": [
    "a.save_data()"
   ]
  }
 ],
 "metadata": {
  "kernelspec": {
   "display_name": "twpaenv",
   "language": "python",
   "name": "twpaenv"
  },
  "language_info": {
   "codemirror_mode": {
    "name": "ipython",
    "version": 3
   },
   "file_extension": ".py",
   "mimetype": "text/x-python",
   "name": "python",
   "nbconvert_exporter": "python",
   "pygments_lexer": "ipython3",
   "version": "3.10.12"
  }
 },
 "nbformat": 4,
 "nbformat_minor": 2
}
